{
 "cells": [
  {
   "cell_type": "code",
   "execution_count": null,
   "metadata": {},
   "outputs": [],
   "source": [
    "##### External Packages\n",
    "import numpy as np\n",
    "from os import system as s\n",
    "import sys\n",
    "\n",
    "##### Internal Packages\n",
    "\n",
    "import SPack        as SP\n",
    "import SPack_Light  as SPL\n",
    "import SPack_Python.Plot as Plot\n",
    "import SPack_Python.Mate as Mate\n",
    "import SPack_Python.RW as RW\n",
    "\n",
    "##### Import Plot Packages\n",
    "\n",
    "%matplotlib inline \n",
    "import matplotlib.pyplot as plt\n",
    "import matplotlib.gridspec as gridspec\n"
   ]
  },
  {
   "cell_type": "code",
   "execution_count": null,
   "metadata": {},
   "outputs": [],
   "source": [
    "##### Load Main\n",
    "\n",
    "Plot.Load_RC()"
   ]
  },
  {
   "cell_type": "code",
   "execution_count": null,
   "metadata": {},
   "outputs": [],
   "source": [
    "def plot():    \n",
    "    fig,ax0 = plt.subplots(nrows=1, ncols=1, figsize=(10, 10))\n",
    "    gs = gridspec.GridSpec(1, 1)\n",
    "    gs.update(hspace=0.0)\n",
    "    ax = plt.subplot(gs[0,0])\n",
    "\n",
    "    ax.plot([0,1],[0,1],color =  'k', ls='--', linewidth=2)        \n",
    "        \n",
    "    ax.plot([],[], 'r-', linewidth=2, label=r'$\\rm Data$')\n",
    "    ax.legend(loc='upper left', shadow=True,fontsize=30,frameon=False) \n",
    "    ####################################################################################################\n",
    "    ax.set_xlim([0, 1])\n",
    "    ax.set_ylim([0.01, 1])\n",
    "    #plt.setp(ax[1].get_xticklabels(), visible=False)\n",
    "    ####################################################################################################\n",
    "    ax.set_ylabel(r'$\\rm Y-Axis$', fontsize=35)\n",
    "    ax.set_xlabel(r'$\\rm X-Axis$', fontsize=35)\n",
    "    #plt.savefig('Example.pdf',rasterized=True,papertype = 'b10', bbox_inches='tight')\n",
    "plot()\n"
   ]
  },
  {
   "cell_type": "code",
   "execution_count": null,
   "metadata": {},
   "outputs": [],
   "source": []
  },
  {
   "cell_type": "code",
   "execution_count": null,
   "metadata": {},
   "outputs": [],
   "source": []
  },
  {
   "cell_type": "code",
   "execution_count": null,
   "metadata": {},
   "outputs": [],
   "source": []
  }
 ],
 "metadata": {
  "kernelspec": {
   "display_name": "Python 2",
   "language": "python",
   "name": "python2"
  },
  "language_info": {
   "codemirror_mode": {
    "name": "ipython",
    "version": 2
   },
   "file_extension": ".py",
   "mimetype": "text/x-python",
   "name": "python",
   "nbconvert_exporter": "python",
   "pygments_lexer": "ipython2",
   "version": "2.7.12"
  }
 },
 "nbformat": 4,
 "nbformat_minor": 2
}
